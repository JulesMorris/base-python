{
 "cells": [
  {
   "cell_type": "markdown",
   "id": "c65fe906",
   "metadata": {},
   "source": [
    "<br>\n",
    "<div style=\"text-align: right; font-family: fantasy;\">Jules Morris<br>October 2022</div>"
   ]
  },
  {
   "cell_type": "code",
   "execution_count": 1,
   "id": "418edc45",
   "metadata": {},
   "outputs": [],
   "source": [
    "import re"
   ]
  },
  {
   "cell_type": "markdown",
   "id": "7645f6e8",
   "metadata": {},
   "source": [
    "<h1 style = \"border-bottom: 10px groove maroon; margin-top: 1px; margin-bottom: 2px; text-align: center;\"> Python Regular Expressions Masterclass</h1>"
   ]
  },
  {
   "cell_type": "code",
   "execution_count": 3,
   "id": "afa8212e",
   "metadata": {},
   "outputs": [],
   "source": [
    "#help(re)"
   ]
  },
  {
   "cell_type": "code",
   "execution_count": 4,
   "id": "36667278",
   "metadata": {},
   "outputs": [
    {
     "data": {
      "text/plain": [
       "['A',\n",
       " 'ASCII',\n",
       " 'DEBUG',\n",
       " 'DOTALL',\n",
       " 'I',\n",
       " 'IGNORECASE',\n",
       " 'L',\n",
       " 'LOCALE',\n",
       " 'M',\n",
       " 'MULTILINE',\n",
       " 'Match',\n",
       " 'Pattern',\n",
       " 'RegexFlag',\n",
       " 'S',\n",
       " 'Scanner',\n",
       " 'T',\n",
       " 'TEMPLATE',\n",
       " 'U',\n",
       " 'UNICODE',\n",
       " 'VERBOSE',\n",
       " 'X',\n",
       " '_MAXCACHE',\n",
       " '__all__',\n",
       " '__builtins__',\n",
       " '__cached__',\n",
       " '__doc__',\n",
       " '__file__',\n",
       " '__loader__',\n",
       " '__name__',\n",
       " '__package__',\n",
       " '__spec__',\n",
       " '__version__',\n",
       " '_cache',\n",
       " '_compile',\n",
       " '_compile_repl',\n",
       " '_expand',\n",
       " '_locale',\n",
       " '_pickle',\n",
       " '_special_chars_map',\n",
       " '_subx',\n",
       " 'compile',\n",
       " 'copyreg',\n",
       " 'enum',\n",
       " 'error',\n",
       " 'escape',\n",
       " 'findall',\n",
       " 'finditer',\n",
       " 'fullmatch',\n",
       " 'functools',\n",
       " 'match',\n",
       " 'purge',\n",
       " 'search',\n",
       " 'split',\n",
       " 'sre_compile',\n",
       " 'sre_parse',\n",
       " 'sub',\n",
       " 'subn',\n",
       " 'template']"
      ]
     },
     "execution_count": 4,
     "metadata": {},
     "output_type": "execute_result"
    }
   ],
   "source": [
    "dir(re)"
   ]
  },
  {
   "cell_type": "markdown",
   "id": "b321e74c",
   "metadata": {},
   "source": [
    "- \\n - new line character\n",
    "- \\t - Tab character\n",
    "- \\U - Unicode"
   ]
  },
  {
   "cell_type": "code",
   "execution_count": 5,
   "id": "872911ad",
   "metadata": {},
   "outputs": [
    {
     "ename": "SyntaxError",
     "evalue": "(unicode error) 'unicodeescape' codec can't decode bytes in position 2-3: truncated \\UXXXXXXXX escape (4166270046.py, line 1)",
     "output_type": "error",
     "traceback": [
      "\u001b[0;36m  Input \u001b[0;32mIn [5]\u001b[0;36m\u001b[0m\n\u001b[0;31m    path = \"C:\\Users\\tasks\\new\"\u001b[0m\n\u001b[0m                               ^\u001b[0m\n\u001b[0;31mSyntaxError\u001b[0m\u001b[0;31m:\u001b[0m (unicode error) 'unicodeescape' codec can't decode bytes in position 2-3: truncated \\UXXXXXXXX escape\n"
     ]
    }
   ],
   "source": [
    "path = \"C:\\Users\\tasks\\new\""
   ]
  },
  {
   "cell_type": "markdown",
   "id": "cf731de2",
   "metadata": {},
   "source": [
    "- Python tries to interpret the escape characters in this string, and throws a syntax error. Using a raw string will prevent this."
   ]
  },
  {
   "cell_type": "code",
   "execution_count": 6,
   "id": "0c1e190d",
   "metadata": {},
   "outputs": [],
   "source": [
    "path = r\"C:\\Users\\tasks\\new\""
   ]
  },
  {
   "cell_type": "code",
   "execution_count": 7,
   "id": "9d9b5c3d",
   "metadata": {},
   "outputs": [],
   "source": [
    "#define path without the Users portion\n",
    "path = \"C:\\tasks\\new\""
   ]
  },
  {
   "cell_type": "code",
   "execution_count": 8,
   "id": "9ac6b2c3",
   "metadata": {},
   "outputs": [
    {
     "name": "stdout",
     "output_type": "stream",
     "text": [
      "C:\tasks\n",
      "ew\n"
     ]
    }
   ],
   "source": [
    "print(path)"
   ]
  },
  {
   "cell_type": "markdown",
   "id": "e12ac895",
   "metadata": {},
   "source": [
    "- Now there is a space between \"t\" and \"asks\" because the \"\\t\" was interpreted as a tab character and the \"ew\" on the next line found the \"\\n\" character and returned \"ew\" on a new line."
   ]
  },
  {
   "cell_type": "markdown",
   "id": "0d797770",
   "metadata": {},
   "source": [
    "<h2 style = \"border-bottom: 10px groove maroon; margin-top: 1px; margin-bottom: 2px; text-align: left;\"> re.compile()</h2>"
   ]
  },
  {
   "cell_type": "code",
   "execution_count": 9,
   "id": "65df0724",
   "metadata": {},
   "outputs": [],
   "source": [
    "#target string\n",
    "string = \"The Euro STOXX 600 index, which tracks all stock markets across Europe including the FTSE, \\\n",
    "fell by 11.48% – the worst day since it launched in 1998. The panic selling prompted by the coronavirus \\\n",
    "has wiped £2.7tn off the value of STOXX 600 shares since its all-time peak on 19 February.\"\n",
    "\n",
    "#match any digit from 0-9 in a target string -> \\d, the 4 inside the curly braces, in this case the digit, has to occur four times in a row.\n",
    "s = r\"\\d{4}\""
   ]
  },
  {
   "cell_type": "code",
   "execution_count": null,
   "id": "40743be8",
   "metadata": {},
   "outputs": [],
   "source": []
  }
 ],
 "metadata": {
  "kernelspec": {
   "display_name": "Python 3 (ipykernel)",
   "language": "python",
   "name": "python3"
  },
  "language_info": {
   "codemirror_mode": {
    "name": "ipython",
    "version": 3
   },
   "file_extension": ".py",
   "mimetype": "text/x-python",
   "name": "python",
   "nbconvert_exporter": "python",
   "pygments_lexer": "ipython3",
   "version": "3.9.12"
  }
 },
 "nbformat": 4,
 "nbformat_minor": 5
}

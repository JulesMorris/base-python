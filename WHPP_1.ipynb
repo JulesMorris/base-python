{
 "cells": [
  {
   "cell_type": "markdown",
   "id": "c99ca916",
   "metadata": {},
   "source": [
    "<h1 style=\"border-bottom: 10px groove darkslategray; margintop: 1px; margin-bottom: 2px; text-align: left;\"> Slice Sequences</h1>\n",
    "\n",
    "#### somelist[start : end]\n",
    "- start: inclusive index\n",
    "- end: exclusive index"
   ]
  },
  {
   "cell_type": "code",
   "execution_count": 1,
   "id": "54c2e554",
   "metadata": {},
   "outputs": [],
   "source": [
    "a = ['a', 'b', 'c', 'd', 'e', 'f', 'g', 'h']"
   ]
  },
  {
   "cell_type": "code",
   "execution_count": 2,
   "id": "aebcd867",
   "metadata": {},
   "outputs": [
    {
     "name": "stdout",
     "output_type": "stream",
     "text": [
      "['a', 'b', 'c', 'd']\n"
     ]
    }
   ],
   "source": [
    "#first four items of list\n",
    "print(a[:4])"
   ]
  },
  {
   "cell_type": "code",
   "execution_count": 3,
   "id": "51649349",
   "metadata": {},
   "outputs": [
    {
     "name": "stdout",
     "output_type": "stream",
     "text": [
      "['e', 'f', 'g', 'h']\n"
     ]
    }
   ],
   "source": [
    "#last four items of list\n",
    "print(a[-4:])"
   ]
  },
  {
   "cell_type": "code",
   "execution_count": 4,
   "id": "508a4565",
   "metadata": {},
   "outputs": [
    {
     "name": "stdout",
     "output_type": "stream",
     "text": [
      "['d', 'e']\n"
     ]
    }
   ],
   "source": [
    "#start at third index: end at -3 index (which is f, but the end isn't inclusive so end at -4)\n",
    "print(a[3:-3])"
   ]
  },
  {
   "cell_type": "code",
   "execution_count": 5,
   "id": "1fc2d903",
   "metadata": {},
   "outputs": [
    {
     "name": "stdout",
     "output_type": "stream",
     "text": [
      "['f', 'g', 'h']\n"
     ]
    }
   ],
   "source": [
    "#print index five onward\n",
    "print(a[5:])"
   ]
  },
  {
   "cell_type": "code",
   "execution_count": 6,
   "id": "40242c6f",
   "metadata": {},
   "outputs": [
    {
     "name": "stdout",
     "output_type": "stream",
     "text": [
      "['f', 'g', 'h']\n"
     ]
    }
   ],
   "source": [
    "#start at five and end at the length of the slice\n",
    "print(a[5:len(a)])"
   ]
  },
  {
   "cell_type": "code",
   "execution_count": 7,
   "id": "ffeb1279",
   "metadata": {},
   "outputs": [],
   "source": [
    "#assert both methods are equal\n",
    "assert a[5:] == a[5:len(a)]"
   ]
  },
  {
   "cell_type": "code",
   "execution_count": 8,
   "id": "bb1b7730",
   "metadata": {},
   "outputs": [
    {
     "name": "stdout",
     "output_type": "stream",
     "text": [
      "['a', 'b', 'c', 'd', 'e', 'f', 'g', 'h']\n"
     ]
    }
   ],
   "source": [
    "#give me everything\n",
    "print(a[:])"
   ]
  },
  {
   "cell_type": "code",
   "execution_count": 9,
   "id": "4ad87067",
   "metadata": {},
   "outputs": [
    {
     "name": "stdout",
     "output_type": "stream",
     "text": [
      "['a', 'b', 'c', 'd', 'e', 'f', 'g']\n"
     ]
    }
   ],
   "source": [
    "#give me everything up to the last item\n",
    "print(a[:-1])"
   ]
  },
  {
   "cell_type": "code",
   "execution_count": 10,
   "id": "91ba399e",
   "metadata": {},
   "outputs": [
    {
     "name": "stdout",
     "output_type": "stream",
     "text": [
      "['e', 'f', 'g', 'h']\n"
     ]
    }
   ],
   "source": [
    "#give me everything after the fourth index\n",
    "print(a[4:])"
   ]
  },
  {
   "cell_type": "code",
   "execution_count": 11,
   "id": "063945ec",
   "metadata": {},
   "outputs": [
    {
     "name": "stdout",
     "output_type": "stream",
     "text": [
      "['f', 'g', 'h']\n"
     ]
    }
   ],
   "source": [
    "#give me everything after three back from the end\n",
    "print(a[-3:])"
   ]
  },
  {
   "cell_type": "code",
   "execution_count": 12,
   "id": "25b81591",
   "metadata": {},
   "outputs": [
    {
     "name": "stdout",
     "output_type": "stream",
     "text": [
      "['c', 'd', 'e']\n"
     ]
    }
   ],
   "source": [
    "#give me everything from the second index up to the fifth index\n",
    "print(a[2:5])"
   ]
  },
  {
   "cell_type": "code",
   "execution_count": 13,
   "id": "69ceec08",
   "metadata": {},
   "outputs": [
    {
     "name": "stdout",
     "output_type": "stream",
     "text": [
      "['c', 'd', 'e', 'f', 'g']\n"
     ]
    }
   ],
   "source": [
    "#second index all the way to everything but the last index\n",
    "print(a[2:-1])"
   ]
  },
  {
   "cell_type": "code",
   "execution_count": 14,
   "id": "1150b5e3",
   "metadata": {},
   "outputs": [
    {
     "name": "stdout",
     "output_type": "stream",
     "text": [
      "['f', 'g']\n"
     ]
    }
   ],
   "source": [
    "#third to last all the way to everything but the last index\n",
    "print(a[-3:-1])"
   ]
  },
  {
   "cell_type": "code",
   "execution_count": 15,
   "id": "e72adb25",
   "metadata": {},
   "outputs": [
    {
     "name": "stdout",
     "output_type": "stream",
     "text": [
      "['a', 'b', 'c', 'd', 'e', 'f', 'g', 'h']\n"
     ]
    }
   ],
   "source": [
    "#give me the first 20 from the list, (even if not 20, this will work)\n",
    "print(a[:20])"
   ]
  },
  {
   "cell_type": "code",
   "execution_count": 17,
   "id": "09a7b2a2",
   "metadata": {},
   "outputs": [
    {
     "name": "stdout",
     "output_type": "stream",
     "text": [
      "['a', 'b', 'c', 'd', 'e', 'f', 'g', 'h']\n"
     ]
    }
   ],
   "source": [
    "#give me the last 20 from the list\n",
    "print(a[-20:])"
   ]
  },
  {
   "cell_type": "code",
   "execution_count": 18,
   "id": "e5701672",
   "metadata": {},
   "outputs": [
    {
     "name": "stdout",
     "output_type": "stream",
     "text": [
      "['e', 'f', 'g', 'h']\n"
     ]
    }
   ],
   "source": [
    "#create new list from slices\n",
    "b = a[4:]\n",
    "print(b)"
   ]
  },
  {
   "cell_type": "code",
   "execution_count": 19,
   "id": "e8ea70b7",
   "metadata": {},
   "outputs": [
    {
     "name": "stdout",
     "output_type": "stream",
     "text": [
      "['e', 99, 'g', 'h']\n"
     ]
    }
   ],
   "source": [
    "#change the first index in list b to 99\n",
    "b[1] = 99\n",
    "print(b)"
   ]
  },
  {
   "cell_type": "code",
   "execution_count": 20,
   "id": "648bcd2f",
   "metadata": {},
   "outputs": [
    {
     "name": "stdout",
     "output_type": "stream",
     "text": [
      "['a', 'b', 'c', 'd', 'e', 'f', 'g', 'h']\n"
     ]
    }
   ],
   "source": [
    "#b changed, but a does not\n",
    "print(a)"
   ]
  },
  {
   "cell_type": "code",
   "execution_count": 21,
   "id": "adfd16a3",
   "metadata": {},
   "outputs": [
    {
     "name": "stdout",
     "output_type": "stream",
     "text": [
      "a b\n"
     ]
    }
   ],
   "source": [
    "#you can use slices in tuple assignments as long as the length of the slice assignments are the same as the\n",
    "# tuple you're assigning\n",
    "\n",
    "#create tuples that are everything up to index 2\n",
    "b,c = a[:2]\n",
    "print(b, c)"
   ]
  },
  {
   "cell_type": "code",
   "execution_count": 22,
   "id": "c6c7b752",
   "metadata": {},
   "outputs": [
    {
     "ename": "ValueError",
     "evalue": "too many values to unpack (expected 2)",
     "output_type": "error",
     "traceback": [
      "\u001b[0;31m---------------------------------------------------------------------------\u001b[0m",
      "\u001b[0;31mValueError\u001b[0m                                Traceback (most recent call last)",
      "Input \u001b[0;32mIn [22]\u001b[0m, in \u001b[0;36m<cell line: 1>\u001b[0;34m()\u001b[0m\n\u001b[0;32m----> 1\u001b[0m b, c \u001b[38;5;241m=\u001b[39m a[:\u001b[38;5;241m3\u001b[39m]\n\u001b[1;32m      2\u001b[0m \u001b[38;5;28mprint\u001b[39m(b,c)\n",
      "\u001b[0;31mValueError\u001b[0m: too many values to unpack (expected 2)"
     ]
    }
   ],
   "source": [
    "b, c = a[:3]\n",
    "print(b,c) #fails bc not enough values to unpack, slice of three should have three assignments"
   ]
  },
  {
   "cell_type": "code",
   "execution_count": 23,
   "id": "d8e35079",
   "metadata": {},
   "outputs": [
    {
     "name": "stdout",
     "output_type": "stream",
     "text": [
      "['a', 'b', 99, 22, 14, 'h']\n"
     ]
    }
   ],
   "source": [
    "#selecting four items, but only putting in three\n",
    "a[2:7] = [99, 22, 14] #splicing\n",
    "print(a) #new content put in place of old content, list is truncated to match"
   ]
  },
  {
   "cell_type": "code",
   "execution_count": 24,
   "id": "4acdc555",
   "metadata": {},
   "outputs": [
    {
     "name": "stdout",
     "output_type": "stream",
     "text": [
      "['a', 'b', 'c', 'd', 'e', 'f', 'g', 'h']\n",
      "['a', 'b', 'c', 'd', 'e', 'f', 'g', 'h']\n",
      "4607407488\n",
      "4607179328\n"
     ]
    }
   ],
   "source": [
    "#list\n",
    "a = ['a', 'b', 'c', 'd', 'e', 'f', 'g', 'h']\n",
    "\n",
    "#copy of list all items in 'a'\n",
    "b = a[:]\n",
    "\n",
    "#lists look exactly the same\n",
    "print(a)\n",
    "print(b)\n",
    "\n",
    "#lists have different ids in memory\n",
    "print(id(a))\n",
    "print(id(b))\n",
    "\n",
    "#lists are same in terms of equivalence\n",
    "assert a == b\n",
    "\n",
    "#but they are still separate lists\n",
    "assert a is not b"
   ]
  },
  {
   "cell_type": "code",
   "execution_count": 25,
   "id": "3acbafd1",
   "metadata": {},
   "outputs": [
    {
     "name": "stdout",
     "output_type": "stream",
     "text": [
      "['f', 'g', 'h']\n"
     ]
    }
   ],
   "source": [
    "a = ['a', 'b', 'c', 'd', 'e', 'f', 'g', 'h']\n",
    "n = 3\n",
    "print(a[-n:])"
   ]
  },
  {
   "cell_type": "code",
   "execution_count": 26,
   "id": "d048e76b",
   "metadata": {},
   "outputs": [
    {
     "name": "stdout",
     "output_type": "stream",
     "text": [
      "['a', 'b', 'c', 'd', 'e', 'f', 'g', 'h']\n"
     ]
    }
   ],
   "source": [
    "a = ['a', 'b', 'c', 'd', 'e', 'f', 'g', 'h']\n",
    "n = 0 #becomes negative zero, which causes you to copy the whole original slice\n",
    "print(a[-n:])"
   ]
  },
  {
   "cell_type": "markdown",
   "id": "1d9844da",
   "metadata": {},
   "source": [
    "---"
   ]
  },
  {
   "cell_type": "markdown",
   "id": "3f84d7eb",
   "metadata": {},
   "source": [
    "<h1 style=\"border-bottom: 10px groove darkslategray; margin-top: 1px; margin-bottom: 2px; text-align: left;\"> Slice Sequences Tips: Avoid Using start, end, and stride together</h1>\n",
    "\n",
    "#### somelist[start:end:stride]\n",
    "- start: inclusive index\n",
    "- end: exclusive index\n",
    "- stride: interval index"
   ]
  },
  {
   "cell_type": "code",
   "execution_count": 27,
   "id": "0d5d63ba",
   "metadata": {},
   "outputs": [
    {
     "name": "stdout",
     "output_type": "stream",
     "text": [
      "['red', 'yellow', 'blue']\n"
     ]
    }
   ],
   "source": [
    "#give all of the even indexes in the list by starting at the zeroth index and striding every 2\n",
    "a = ['red', 'orange', 'yellow', 'green', 'blue', 'purple']\n",
    "print(a[::2])"
   ]
  },
  {
   "cell_type": "code",
   "execution_count": 28,
   "id": "bf383edd",
   "metadata": {},
   "outputs": [
    {
     "name": "stdout",
     "output_type": "stream",
     "text": [
      "['orange', 'green', 'purple']\n"
     ]
    }
   ],
   "source": [
    "#give all of the odd indexes in the list by starting at the first index and striding every 2\n",
    "a = ['red', 'orange', 'yellow', 'green', 'blue', 'purple']\n",
    "print(a[1::2])"
   ]
  },
  {
   "cell_type": "markdown",
   "id": "e80b0209",
   "metadata": {},
   "source": [
    "#### The stride syntax often causes unexpected behavior that can introduce bugs"
   ]
  },
  {
   "cell_type": "code",
   "execution_count": 29,
   "id": "e95611ba",
   "metadata": {},
   "outputs": [
    {
     "name": "stdout",
     "output_type": "stream",
     "text": [
      "b'esoognom'\n"
     ]
    }
   ],
   "source": [
    "#a common python idiom for reversing a string is to 'take the negative stride'.\n",
    "\n",
    "x = b'mongoose'\n",
    "y = x[::-1]\n",
    "print(y)"
   ]
  },
  {
   "cell_type": "code",
   "execution_count": 30,
   "id": "492a796e",
   "metadata": {
    "scrolled": true
   },
   "outputs": [
    {
     "ename": "UnicodeDecodeError",
     "evalue": "'utf-8' codec can't decode byte 0x9d in position 0: invalid start byte",
     "output_type": "error",
     "traceback": [
      "\u001b[0;31m---------------------------------------------------------------------------\u001b[0m",
      "\u001b[0;31mUnicodeDecodeError\u001b[0m                        Traceback (most recent call last)",
      "Input \u001b[0;32mIn [30]\u001b[0m, in \u001b[0;36m<cell line: 6>\u001b[0;34m()\u001b[0m\n\u001b[1;32m      3\u001b[0m x \u001b[38;5;241m=\u001b[39m w\u001b[38;5;241m.\u001b[39mencode(\u001b[38;5;124m'\u001b[39m\u001b[38;5;124mutf-8\u001b[39m\u001b[38;5;124m'\u001b[39m)\n\u001b[1;32m      5\u001b[0m y \u001b[38;5;241m=\u001b[39m x[::\u001b[38;5;241m-\u001b[39m\u001b[38;5;241m1\u001b[39m]\n\u001b[0;32m----> 6\u001b[0m z \u001b[38;5;241m=\u001b[39m \u001b[43my\u001b[49m\u001b[38;5;241;43m.\u001b[39;49m\u001b[43mdecode\u001b[49m\u001b[43m(\u001b[49m\u001b[38;5;124;43m'\u001b[39;49m\u001b[38;5;124;43mutf-8\u001b[39;49m\u001b[38;5;124;43m'\u001b[39;49m\u001b[43m)\u001b[49m\n",
      "\u001b[0;31mUnicodeDecodeError\u001b[0m: 'utf-8' codec can't decode byte 0x9d in position 0: invalid start byte"
     ]
    }
   ],
   "source": [
    "#works well for byte strings and ASCII characters but it'll break for unicode characters encoded as utf-8\n",
    "w = '謝謝'\n",
    "x = w.encode('utf-8')\n",
    "\n",
    "y = x[::-1]\n",
    "z = y.decode('utf-8') #it breaks"
   ]
  },
  {
   "cell_type": "markdown",
   "id": "bfeb95c4",
   "metadata": {},
   "source": [
    "#### Are strides ever useful?"
   ]
  },
  {
   "cell_type": "code",
   "execution_count": 31,
   "id": "d84aae80",
   "metadata": {},
   "outputs": [
    {
     "name": "stdout",
     "output_type": "stream",
     "text": [
      "['a', 'c', 'e', 'g']\n"
     ]
    }
   ],
   "source": [
    "#select every second item starting from the beginning\n",
    "a = ['a', 'b', 'c', 'd', 'e', 'f', 'g', 'h']\n",
    "print(a[::2])"
   ]
  },
  {
   "cell_type": "code",
   "execution_count": 32,
   "id": "1989d51f",
   "metadata": {},
   "outputs": [
    {
     "name": "stdout",
     "output_type": "stream",
     "text": [
      "['h', 'f', 'd', 'b']\n"
     ]
    }
   ],
   "source": [
    "#select every second item startig from the end\n",
    "a = ['a', 'b', 'c', 'd', 'e', 'f', 'g', 'h']\n",
    "print(a[::-2])"
   ]
  },
  {
   "cell_type": "code",
   "execution_count": 33,
   "id": "83b6059b",
   "metadata": {},
   "outputs": [
    {
     "name": "stdout",
     "output_type": "stream",
     "text": [
      "['c', 'e', 'g']\n"
     ]
    }
   ],
   "source": [
    "#start at second index and stride every 2\n",
    "a = ['a', 'b', 'c', 'd', 'e', 'f', 'g', 'h']\n",
    "print(a[2::2])"
   ]
  },
  {
   "cell_type": "code",
   "execution_count": 34,
   "id": "b6a91e8a",
   "metadata": {},
   "outputs": [
    {
     "name": "stdout",
     "output_type": "stream",
     "text": [
      "['g', 'e', 'c', 'a']\n"
     ]
    }
   ],
   "source": [
    "#start at the negative two index and stride back every 2\n",
    "a = ['a', 'b', 'c', 'd', 'e', 'f', 'g', 'h']\n",
    "print(a[-2::-2])"
   ]
  },
  {
   "cell_type": "code",
   "execution_count": 35,
   "id": "d0a6f981",
   "metadata": {},
   "outputs": [
    {
     "name": "stdout",
     "output_type": "stream",
     "text": [
      "['g', 'e']\n"
     ]
    }
   ],
   "source": [
    "#start at negative 2 (g), end(exclusive) at second index (c), and stride backwards by 2\n",
    "a = ['a', 'b', 'c', 'd', 'e', 'f', 'g', 'h']\n",
    "print(a[-2:2:-2])"
   ]
  },
  {
   "cell_type": "code",
   "execution_count": 36,
   "id": "2dc91f9e",
   "metadata": {},
   "outputs": [
    {
     "name": "stdout",
     "output_type": "stream",
     "text": [
      "[]\n"
     ]
    }
   ],
   "source": [
    "#starting at 2, ending at 2, and striding back by 2 (empty list)\n",
    "a = ['a', 'b', 'c', 'd', 'e', 'f', 'g', 'h']\n",
    "print(a[2:2:-2])"
   ]
  },
  {
   "cell_type": "markdown",
   "id": "c356b429",
   "metadata": {},
   "source": [
    "#### If you must use stride, consider making it a positive value and omitting the start and end indexes"
   ]
  },
  {
   "cell_type": "code",
   "execution_count": 37,
   "id": "6be1f0e9",
   "metadata": {},
   "outputs": [
    {
     "name": "stdout",
     "output_type": "stream",
     "text": [
      "['a', 'c', 'e', 'g']\n"
     ]
    }
   ],
   "source": [
    "a = ['a', 'b', 'c', 'd', 'e', 'f', 'g', 'h']\n",
    "b = a[::2]\n",
    "print(b)"
   ]
  },
  {
   "cell_type": "markdown",
   "id": "3d6b74f4",
   "metadata": {},
   "source": [
    "#### Create stride first, and then slice"
   ]
  },
  {
   "cell_type": "code",
   "execution_count": 38,
   "id": "2bf9cf1b",
   "metadata": {
    "scrolled": false
   },
   "outputs": [
    {
     "name": "stdout",
     "output_type": "stream",
     "text": [
      "original list: ['a', 'b', 'c', 'd', 'e', 'f', 'g', 'h']\n",
      "stride by 2: ['a', 'c', 'e', 'g']\n",
      "list from index: 1:-1: ['c', 'e']\n"
     ]
    }
   ],
   "source": [
    "a = ['a', 'b', 'c', 'd', 'e', 'f', 'g', 'h']\n",
    "\n",
    "#stride creation\n",
    "b = a[::2] \n",
    "\n",
    "#start at 1, end at (exclusive) -1, (from 1 until the next to last index)\n",
    "c = b[1:-1]\n",
    "\n",
    "print(f'original list: {a}')\n",
    "print(f'stride by 2: {b}')\n",
    "print(f'list from index: 1:-1: {c}')"
   ]
  },
  {
   "cell_type": "markdown",
   "id": "df21abd5",
   "metadata": {},
   "source": [
    "<h1 style=\"border-bottom: 10px groove darkslategray; margin-top: 1px; margin-bottom: 2px; text-align: left;\"> Preference</h1>"
   ]
  },
  {
   "cell_type": "code",
   "execution_count": 39,
   "id": "97871139",
   "metadata": {},
   "outputs": [
    {
     "name": "stdout",
     "output_type": "stream",
     "text": [
      "0\n",
      "1\n",
      "2\n",
      "3\n",
      "4\n",
      "5\n",
      "6\n",
      "7\n",
      "8\n",
      "9\n",
      "10\n",
      "11\n",
      "12\n",
      "13\n",
      "14\n",
      "15\n",
      "16\n",
      "17\n",
      "18\n",
      "19\n",
      "20\n",
      "21\n",
      "22\n",
      "23\n",
      "24\n",
      "25\n",
      "26\n",
      "27\n",
      "28\n",
      "29\n",
      "30\n",
      "31\n",
      "32\n",
      "33\n",
      "34\n",
      "35\n",
      "36\n",
      "37\n",
      "38\n",
      "39\n",
      "40\n",
      "41\n",
      "42\n",
      "43\n",
      "44\n",
      "45\n",
      "46\n",
      "47\n",
      "48\n",
      "49\n",
      "50\n",
      "51\n",
      "52\n",
      "53\n",
      "54\n",
      "55\n",
      "56\n",
      "57\n",
      "58\n",
      "59\n",
      "60\n",
      "61\n",
      "62\n",
      "63\n"
     ]
    }
   ],
   "source": [
    "for i in range(64):\n",
    "    print(i)"
   ]
  },
  {
   "cell_type": "code",
   "execution_count": 40,
   "id": "7ba715d5",
   "metadata": {},
   "outputs": [
    {
     "name": "stdout",
     "output_type": "stream",
     "text": [
      "0b110010101101111110100000101101001011100001001111000010001110\n"
     ]
    }
   ],
   "source": [
    "from random import randint\n",
    "\n",
    "#create default interger\n",
    "random_bits = 0\n",
    "\n",
    "#figure out for each position all of the 64 bits in this interger\n",
    "#what to set each bit to, randomly\n",
    "for i in range(64):\n",
    "    #pick 0 or 1, id it's 0, don't set the bit\n",
    "    if randint(0, 1):\n",
    "        #if it's 1, that I want to or in that bit in the given position\n",
    "        random_bits |= 1 << i #left shift of the number 1\n",
    "        \n",
    "print(bin(random_bits))"
   ]
  },
  {
   "cell_type": "code",
   "execution_count": 41,
   "id": "0595add2",
   "metadata": {},
   "outputs": [
    {
     "name": "stdout",
     "output_type": "stream",
     "text": [
      "vanilla is delicious\n",
      "chocolate is delicious\n",
      "pecan is delicious\n",
      "strawberry is delicious\n"
     ]
    }
   ],
   "source": [
    "flavor_list = ['vanilla', 'chocolate', 'pecan', 'strawberry']\n",
    "for flavor in flavor_list:\n",
    "    print('%s is delicious' % flavor)"
   ]
  },
  {
   "cell_type": "code",
   "execution_count": 42,
   "id": "7fa9a4e1",
   "metadata": {},
   "outputs": [
    {
     "name": "stdout",
     "output_type": "stream",
     "text": [
      "1: vanilla is delicious\n",
      "2: chocolate is delicious\n",
      "3: pecan is delicious\n",
      "4: strawberry is delicious\n"
     ]
    }
   ],
   "source": [
    "flavor_list = ['vanilla', 'chocolate', 'pecan', 'strawberry']\n",
    "for i in range(len(flavor_list)):\n",
    "    flavor = flavor_list[i]\n",
    "    print('%d: %s is delicious' % (i + 1, flavor))"
   ]
  },
  {
   "cell_type": "code",
   "execution_count": 43,
   "id": "ac90a8c3",
   "metadata": {},
   "outputs": [
    {
     "name": "stdout",
     "output_type": "stream",
     "text": [
      "[(0, 'vanilla'), (1, 'chocolate'), (2, 'pecan'), (3, 'strawberry')]\n"
     ]
    }
   ],
   "source": [
    "#better option using enumerate\n",
    "flavor_list = ['vanilla', 'chocolate', 'pecan', 'strawberry']\n",
    "print(list(enumerate(flavor_list)))"
   ]
  },
  {
   "cell_type": "code",
   "execution_count": 44,
   "id": "2aa24b9e",
   "metadata": {},
   "outputs": [
    {
     "name": "stdout",
     "output_type": "stream",
     "text": [
      "0: vanilla\n",
      "1: chocolate\n",
      "2: pecan\n",
      "3: strawberry\n"
     ]
    }
   ],
   "source": [
    "#no offset\n",
    "flavor_list = ['vanilla', 'chocolate', 'pecan', 'strawberry']\n",
    "for i, flavor in enumerate(flavor_list):\n",
    "    print('%d: %s' % (i, flavor))"
   ]
  },
  {
   "cell_type": "code",
   "execution_count": 45,
   "id": "7041417f",
   "metadata": {},
   "outputs": [
    {
     "name": "stdout",
     "output_type": "stream",
     "text": [
      "1: vanilla\n",
      "2: chocolate\n",
      "3: pecan\n",
      "4: strawberry\n"
     ]
    }
   ],
   "source": [
    "#offset of 1 directly in enumerate\n",
    "flavor_list = ['vanilla', 'chocolate', 'pecan', 'strawberry']\n",
    "for i, flavor in enumerate(flavor_list, 1):\n",
    "    print('%d: %s' % (i, flavor))"
   ]
  },
  {
   "cell_type": "code",
   "execution_count": 46,
   "id": "59ac98f6",
   "metadata": {},
   "outputs": [
    {
     "name": "stdout",
     "output_type": "stream",
     "text": [
      "1: vanilla\n",
      "2: chocolate\n",
      "3: pecan\n",
      "4: strawberry\n"
     ]
    }
   ],
   "source": [
    "#offset of 1 in print\n",
    "flavor_list = ['vanilla', 'chocolate', 'pecan', 'strawberry']\n",
    "for i, flavor in enumerate(flavor_list):\n",
    "    print('%d: %s' % (i + 1, flavor))"
   ]
  },
  {
   "cell_type": "code",
   "execution_count": null,
   "id": "5c1e2cbb",
   "metadata": {},
   "outputs": [],
   "source": []
  },
  {
   "cell_type": "markdown",
   "id": "82f65efa",
   "metadata": {},
   "source": [
    "<h1 style=\"border-bottom: 10px groove darkslategray; margin-top: 1px; margin-bottom: 2px; text-align: left;\"> Process iterators</h1>"
   ]
  },
  {
   "cell_type": "code",
   "execution_count": 47,
   "id": "691d38e9",
   "metadata": {},
   "outputs": [
    {
     "name": "stdout",
     "output_type": "stream",
     "text": [
      "[7, 4, 5]\n"
     ]
    }
   ],
   "source": [
    "names = ['Cerelia', 'Lise', 'Marie']\n",
    "letters = [len(n) for n in names]\n",
    "print(letters)"
   ]
  },
  {
   "cell_type": "code",
   "execution_count": 48,
   "id": "409777b4",
   "metadata": {},
   "outputs": [
    {
     "name": "stdout",
     "output_type": "stream",
     "text": [
      "Cerelia\n"
     ]
    }
   ],
   "source": [
    "#get the longest name from the list\n",
    "\n",
    "#list\n",
    "names = ['Cerelia', 'Lise', 'Marie']\n",
    "\n",
    "#list comprehension\n",
    "letters = [len(n) for n in names]\n",
    "\n",
    "#create a variable for the longest name, initially set to None\n",
    "longest_name = None\n",
    "#create max_letters variable equal to at least 0\n",
    "max_letters = 0\n",
    "\n",
    "for i in range(len(names)):\n",
    "    count = letters[i]\n",
    "    #if current count of letters is greater than the max num of letters so far,\n",
    "    if count > max_letters:\n",
    "        #the longest name is equal to the names list index \n",
    "        longest_name = names[i]\n",
    "        #and the max letters is equal to the count of the current position\n",
    "        max_letters = count\n",
    "print(longest_name)"
   ]
  },
  {
   "cell_type": "code",
   "execution_count": 49,
   "id": "0a978446",
   "metadata": {},
   "outputs": [
    {
     "name": "stdout",
     "output_type": "stream",
     "text": [
      "[('Cerelia', 7), ('Lise', 4), ('Marie', 5)]\n"
     ]
    }
   ],
   "source": [
    "names = ['Cerelia', 'Lise', 'Marie']\n",
    "letters = [len(n) for n in names]\n",
    "\n",
    "#zip the names and the letters together\n",
    "print(list(zip(names, letters)))"
   ]
  },
  {
   "cell_type": "code",
   "execution_count": 51,
   "id": "59447283",
   "metadata": {},
   "outputs": [
    {
     "name": "stdout",
     "output_type": "stream",
     "text": [
      "Cerelia\n"
     ]
    }
   ],
   "source": [
    "#better with zip\n",
    "names = ['Cerelia', 'Lise', 'Marie']\n",
    "letters = [len(n) for n in names]\n",
    "\n",
    "longest_name = None\n",
    "max_letters = 0\n",
    "\n",
    "for name, count in zip(names, letters):\n",
    "    if count > max_letters:\n",
    "        longest_name = name\n",
    "        max_letters = count\n",
    "        \n",
    "print(longest_name)"
   ]
  },
  {
   "cell_type": "code",
   "execution_count": 52,
   "id": "798f4e12",
   "metadata": {},
   "outputs": [
    {
     "name": "stdout",
     "output_type": "stream",
     "text": [
      "<zip object at 0x112b19b80>\n"
     ]
    }
   ],
   "source": [
    "#python 3, lazy generator that can be exhausted\n",
    "names = ['Cerelia', 'Lise', 'Marie']\n",
    "letters = [len(n) for n in names]\n",
    "print(zip(names, letters))"
   ]
  },
  {
   "cell_type": "code",
   "execution_count": 1,
   "id": "02473d4e",
   "metadata": {},
   "outputs": [
    {
     "ename": "ImportError",
     "evalue": "cannot import name 'izip' from 'itertools' (unknown location)",
     "output_type": "error",
     "traceback": [
      "\u001b[0;31m---------------------------------------------------------------------------\u001b[0m",
      "\u001b[0;31mImportError\u001b[0m                               Traceback (most recent call last)",
      "Input \u001b[0;32mIn [1]\u001b[0m, in \u001b[0;36m<cell line: 3>\u001b[0;34m()\u001b[0m\n\u001b[1;32m      1\u001b[0m \u001b[38;5;66;03m#python 2, generates : [('Cerelia', 7), ('Lise', 4), ('Marie', 5)], unable to exhaust\u001b[39;00m\n\u001b[1;32m      2\u001b[0m \u001b[38;5;66;03m#import izip from itertools as an alternative to return iterator\u001b[39;00m\n\u001b[0;32m----> 3\u001b[0m \u001b[38;5;28;01mfrom\u001b[39;00m \u001b[38;5;21;01mitertools\u001b[39;00m \u001b[38;5;28;01mimport\u001b[39;00m izip\n\u001b[1;32m      5\u001b[0m names \u001b[38;5;241m=\u001b[39m [\u001b[38;5;124m'\u001b[39m\u001b[38;5;124mCerelia\u001b[39m\u001b[38;5;124m'\u001b[39m, \u001b[38;5;124m'\u001b[39m\u001b[38;5;124mLise\u001b[39m\u001b[38;5;124m'\u001b[39m, \u001b[38;5;124m'\u001b[39m\u001b[38;5;124mMarie\u001b[39m\u001b[38;5;124m'\u001b[39m]\n\u001b[1;32m      6\u001b[0m letters \u001b[38;5;241m=\u001b[39m [\u001b[38;5;28mlen\u001b[39m(n) \u001b[38;5;28;01mfor\u001b[39;00m n \u001b[38;5;129;01min\u001b[39;00m names]\n",
      "\u001b[0;31mImportError\u001b[0m: cannot import name 'izip' from 'itertools' (unknown location)"
     ]
    }
   ],
   "source": [
    "#python 2, generates : [('Cerelia', 7), ('Lise', 4), ('Marie', 5)], unable to exhaust\n",
    "#import izip from itertools as an alternative to return iterator\n",
    "from itertools import izip\n",
    "\n",
    "names = ['Cerelia', 'Lise', 'Marie']\n",
    "letters = [len(n) for n in names]\n",
    "print(list(izip(names, letters)))"
   ]
  },
  {
   "cell_type": "code",
   "execution_count": null,
   "id": "085cef4d",
   "metadata": {},
   "outputs": [],
   "source": []
  },
  {
   "cell_type": "code",
   "execution_count": null,
   "id": "6a09771f",
   "metadata": {},
   "outputs": [],
   "source": []
  },
  {
   "cell_type": "markdown",
   "id": "1996be2d",
   "metadata": {},
   "source": [
    "<h1 style=\"border-bottom: 10px groove darkslategray; margin-top: 1px; margin-bottom: 2px; text-align: left;\"> Mistakes to Avoid</h1>"
   ]
  },
  {
   "cell_type": "code",
   "execution_count": null,
   "id": "98110ab3",
   "metadata": {},
   "outputs": [],
   "source": []
  },
  {
   "cell_type": "markdown",
   "id": "3db9e7eb",
   "metadata": {},
   "source": [
    "<h1 style=\"border-bottom: 10px groove darkslategray; margin-top: 1px; margin-bottom: 2px; text-align: left;\"> Take Advantage of each block</h1>"
   ]
  },
  {
   "cell_type": "code",
   "execution_count": null,
   "id": "4d05cec7",
   "metadata": {},
   "outputs": [],
   "source": []
  },
  {
   "cell_type": "markdown",
   "id": "bafe9c72",
   "metadata": {},
   "source": [
    "<h1 style=\"border-bottom: 10px groove darkslategray; margin-top: 1px; margin-bottom: 2px; text-align: left;\"> Contextlib</h1>"
   ]
  },
  {
   "cell_type": "code",
   "execution_count": null,
   "id": "16a960fc",
   "metadata": {},
   "outputs": [],
   "source": []
  }
 ],
 "metadata": {
  "kernelspec": {
   "display_name": "Python 3 (ipykernel)",
   "language": "python",
   "name": "python3"
  },
  "language_info": {
   "codemirror_mode": {
    "name": "ipython",
    "version": 3
   },
   "file_extension": ".py",
   "mimetype": "text/x-python",
   "name": "python",
   "nbconvert_exporter": "python",
   "pygments_lexer": "ipython3",
   "version": "3.9.12"
  }
 },
 "nbformat": 4,
 "nbformat_minor": 5
}

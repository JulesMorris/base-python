{
 "cells": [
  {
   "cell_type": "markdown",
   "id": "ddd1b5b9",
   "metadata": {},
   "source": [
    "<br>\n",
    "<div style=\"text-align: right; font-family: fantasy;\"> Jules</div>\n",
    "<div style=\"text-align:right; font-family: fantasy;\"> December 2022</div>"
   ]
  },
  {
   "cell_type": "markdown",
   "id": "6114b79d",
   "metadata": {},
   "source": [
    "<h1 style=\"border-bottom: 7px double maroon; margin-top: 1px; margin-bottom:1px; text-align: left;\"> Market Segmentation w/ Cluster Analysis</h1>"
   ]
  },
  {
   "cell_type": "code",
   "execution_count": 1,
   "id": "947de627",
   "metadata": {},
   "outputs": [],
   "source": [
    "import numpy as np\n",
    "import pandas as pd\n",
    "import matplotlib.pyplot as plt\n",
    "import seaborn as sns\n",
    "sns.set()\n",
    "from sklearn.cluster import KMeans"
   ]
  },
  {
   "cell_type": "markdown",
   "id": "b28363cc",
   "metadata": {},
   "source": [
    "<hr style=\"border-top: 5px double maroon; margin-top: 1px; margin-bottom: 1px\"></hr> "
   ]
  },
  {
   "cell_type": "markdown",
   "id": "784564fd",
   "metadata": {},
   "source": [
    "<h1 style=\"border-bottom: 7px groove maroon; margin-top:1px; margin-bottom:1px; text-align: left;\"> Load the Data</h1>"
   ]
  },
  {
   "cell_type": "code",
   "execution_count": 2,
   "id": "f085c021",
   "metadata": {},
   "outputs": [
    {
     "data": {
      "text/html": [
       "<div>\n",
       "<style scoped>\n",
       "    .dataframe tbody tr th:only-of-type {\n",
       "        vertical-align: middle;\n",
       "    }\n",
       "\n",
       "    .dataframe tbody tr th {\n",
       "        vertical-align: top;\n",
       "    }\n",
       "\n",
       "    .dataframe thead th {\n",
       "        text-align: right;\n",
       "    }\n",
       "</style>\n",
       "<table border=\"1\" class=\"dataframe\">\n",
       "  <thead>\n",
       "    <tr style=\"text-align: right;\">\n",
       "      <th></th>\n",
       "      <th>Satisfaction</th>\n",
       "      <th>Loyalty</th>\n",
       "    </tr>\n",
       "  </thead>\n",
       "  <tbody>\n",
       "    <tr>\n",
       "      <th>0</th>\n",
       "      <td>4</td>\n",
       "      <td>-1.33</td>\n",
       "    </tr>\n",
       "    <tr>\n",
       "      <th>1</th>\n",
       "      <td>6</td>\n",
       "      <td>-0.28</td>\n",
       "    </tr>\n",
       "    <tr>\n",
       "      <th>2</th>\n",
       "      <td>5</td>\n",
       "      <td>-0.99</td>\n",
       "    </tr>\n",
       "    <tr>\n",
       "      <th>3</th>\n",
       "      <td>7</td>\n",
       "      <td>-0.29</td>\n",
       "    </tr>\n",
       "    <tr>\n",
       "      <th>4</th>\n",
       "      <td>4</td>\n",
       "      <td>1.06</td>\n",
       "    </tr>\n",
       "  </tbody>\n",
       "</table>\n",
       "</div>"
      ],
      "text/plain": [
       "   Satisfaction  Loyalty\n",
       "0             4    -1.33\n",
       "1             6    -0.28\n",
       "2             5    -0.99\n",
       "3             7    -0.29\n",
       "4             4     1.06"
      ]
     },
     "execution_count": 2,
     "metadata": {},
     "output_type": "execute_result"
    }
   ],
   "source": [
    "df = pd.read_csv(\"market_seg_clustering.csv\")\n",
    "df.head()"
   ]
  },
  {
   "cell_type": "markdown",
   "id": "99ae16ee",
   "metadata": {},
   "source": [
    "- Satisfaction is self-reported, discrete variable, takes integer values\n",
    "- Brand loyalty is continuous, uses metrics like # of purchases divided over a period of time."
   ]
  },
  {
   "cell_type": "markdown",
   "id": "95a97781",
   "metadata": {},
   "source": [
    "<h1 style=\"border-bottom: 7px groove maroon; margin-top:1px; margin-bottom:1px; text-align:left;\"> Plot the Data</h1>"
   ]
  },
  {
   "cell_type": "markdown",
   "id": "fd5a4ce4",
   "metadata": {},
   "source": [
    "- plt.scatter(df['Satisfaction'], df['Loyalty'])"
   ]
  },
  {
   "cell_type": "code",
   "execution_count": 3,
   "id": "e8736719",
   "metadata": {},
   "outputs": [
    {
     "data": {
      "text/plain": [
       "Text(0, 0.5, 'Loyalty')"
      ]
     },
     "execution_count": 3,
     "metadata": {},
     "output_type": "execute_result"
    },
    {
     "data": {
      "image/png": "[encoded data removed]",
      "text/plain": [
       "<Figure size 432x288 with 1 Axes>"
      ]
     },
     "metadata": {},
     "output_type": "display_data"
    }
   ],
   "source": [
    "plt.scatter(data = df,\n",
    "           x = 'Satisfaction',\n",
    "           y = 'Loyalty')\n",
    "\n",
    "#create x and y labels\n",
    "plt.xlabel('Satisfaction')\n",
    "plt.ylabel('Loyalty')"
   ]
  },
  {
   "cell_type": "markdown",
   "id": "e823e630",
   "metadata": {},
   "source": [
    "- Four segments appear:\n",
    "    - Upper left: low satisfaction, high loyalty\n",
    "    - Bottom left: low satisfaction, low loyalty\n",
    "    - Upper right: high satisfaction, high loyalty\n",
    "    - Bottom right: high satisfaction, low loyalty\n",
    "    \n",
    "- What could be causing the low loyalty amongst shoppers that are highly satisfied?\n",
    "- How might the satisfaction of high loyalty customers with low satisfaction be improved?"
   ]
  },
  {
   "cell_type": "markdown",
   "id": "f3568047",
   "metadata": {},
   "source": [
    "<h1 style=\"border-bottom: 7px groove maroon; margin-top:1px;margin-bottom:1px;text-align:left;\">Select the Features</h1>"
   ]
  },
  {
   "cell_type": "code",
   "execution_count": 4,
   "id": "b26ed67f",
   "metadata": {},
   "outputs": [],
   "source": [
    "# create copy of data and create new variable\n",
    "x = df.copy()"
   ]
  },
  {
   "cell_type": "markdown",
   "id": "493e4d99",
   "metadata": {},
   "source": [
    "<h1 style=\"border-bottom: 7px groove maroon; margin-top:1px; margin-bottom:1px; text-align: left;\">Clustering</h1>"
   ]
  },
  {
   "cell_type": "code",
   "execution_count": 5,
   "id": "6df90354",
   "metadata": {},
   "outputs": [
    {
     "data": {
      "text/plain": [
       "KMeans(n_clusters=2)"
      ]
     },
     "execution_count": 5,
     "metadata": {},
     "output_type": "execute_result"
    }
   ],
   "source": [
    "# create the model w/ 2 clusters\n",
    "kmeans = KMeans(2)\n",
    "\n",
    "# fit the model\n",
    "kmeans.fit(x)"
   ]
  },
  {
   "cell_type": "markdown",
   "id": "1c6fbf11",
   "metadata": {},
   "source": [
    "<h1 style=\"border-bottom: 7px groove maroon; margin-top:1px;margin-bottom: 1px; text-align: left;\">Clustering Results</h1>"
   ]
  },
  {
   "cell_type": "code",
   "execution_count": 6,
   "id": "e61d68d1",
   "metadata": {},
   "outputs": [],
   "source": [
    "#create a duplicate of x for clusters\n",
    "clusters = x.copy()\n",
    "\n",
    "#create a predictions column for clusters\n",
    "clusters['cluster_pred'] = kmeans.fit_predict(x)"
   ]
  },
  {
   "cell_type": "code",
   "execution_count": 7,
   "id": "3dda8fa1",
   "metadata": {},
   "outputs": [
    {
     "data": {
      "text/plain": [
       "Text(0, 0.5, 'Loyalty')"
      ]
     },
     "execution_count": 7,
     "metadata": {},
     "output_type": "execute_result"
    },
    {
     "data": {
      "image/png": "[encoded data removed]",
      "text/plain": [
       "<Figure size 432x288 with 1 Axes>"
      ]
     },
     "metadata": {},
     "output_type": "display_data"
    }
   ],
   "source": [
    "# create scatter plot \n",
    "plt.scatter(data = clusters,\n",
    "           x = 'Satisfaction',\n",
    "           y = 'Loyalty',\n",
    "           c = 'cluster_pred',\n",
    "           cmap = 'rainbow')\n",
    "\n",
    "#create labels\n",
    "plt.xlabel('Satisfaction')\n",
    "plt.ylabel('Loyalty')"
   ]
  },
  {
   "cell_type": "markdown",
   "id": "4835e49a",
   "metadata": {},
   "source": [
    "- There is a visible cutoff point at the level of 6 satisfaction, with clusters falling on either side of that satisfaction level. The algorithm appears to only have to seen satisfaction, because the variables were not standardized. K-Means disregarded Loyalty as a feature, to have both in consideration, there needs to be scaling.\n",
    "- Both features seem equally important as features."
   ]
  },
  {
   "cell_type": "markdown",
   "id": "9dcce75c",
   "metadata": {},
   "source": [
    "# Standardize the Variables"
   ]
  },
  {
   "cell_type": "code",
   "execution_count": 8,
   "id": "33df7b1b",
   "metadata": {},
   "outputs": [],
   "source": [
    "#import preprocessing library\n",
    "from sklearn import preprocessing\n",
    "\n",
    "#create new variable for scaled version of variable, standardizes w/mean of 0, and std dev of 1 by default\n",
    "x_scaled = preprocessing.scale(x)"
   ]
  },
  {
   "cell_type": "code",
   "execution_count": 9,
   "id": "02c13b51",
   "metadata": {},
   "outputs": [
    {
     "data": {
      "text/plain": [
       "array([[-0.93138063, -1.3318111 ],\n",
       "       [-0.15523011, -0.28117124],\n",
       "       [-0.54330537, -0.99160391],\n",
       "       [ 0.23284516, -0.29117733],\n",
       "       [-0.93138063,  1.05964534],\n",
       "       [-2.09560642, -1.6620122 ],\n",
       "       [ 1.39707095, -0.97159172],\n",
       "       [ 0.62092042, -0.32119561],\n",
       "       [ 0.62092042,  1.01962097],\n",
       "       [ 0.62092042,  0.67941378],\n",
       "       [ 1.39707095, -0.3412078 ],\n",
       "       [-0.54330537,  0.38923705],\n",
       "       [-0.54330537, -1.69203048],\n",
       "       [-1.70753116,  0.66940768],\n",
       "       [ 0.23284516,  0.26916393],\n",
       "       [ 1.00899568,  1.35982816],\n",
       "       [ 0.62092042,  1.37984035],\n",
       "       [ 0.23284516,  1.35982816],\n",
       "       [ 0.23284516, -0.3412078 ],\n",
       "       [ 1.00899568,  0.66940768],\n",
       "       [ 1.39707095,  1.17971847],\n",
       "       [-1.31945589, -1.69203048],\n",
       "       [-0.93138063,  1.03963316],\n",
       "       [-1.31945589, -0.96158562],\n",
       "       [-0.15523011,  1.02962706],\n",
       "       [ 1.00899568, -0.99160391],\n",
       "       [ 1.39707095,  0.36922486],\n",
       "       [ 1.00899568,  0.02901767],\n",
       "       [-1.31945589, -1.36182938],\n",
       "       [-0.54330537,  0.72944425]])"
      ]
     },
     "execution_count": 9,
     "metadata": {},
     "output_type": "execute_result"
    }
   ],
   "source": [
    "x_scaled"
   ]
  },
  {
   "cell_type": "markdown",
   "id": "871f6213",
   "metadata": {},
   "source": [
    "- Loyalty was already scaled and remains the same. \n",
    "- Satisfaction score gets scaled accordingly."
   ]
  },
  {
   "cell_type": "markdown",
   "id": "cbf81171",
   "metadata": {},
   "source": [
    "# The Elbow Method"
   ]
  },
  {
   "cell_type": "code",
   "execution_count": 10,
   "id": "a1f25743",
   "metadata": {},
   "outputs": [],
   "source": [
    "# Use elbow method to determine the appropriate number of clusters\n",
    "\n",
    "# create an empty list\n",
    "wcss = []\n",
    "\n",
    "for i in range(1, 10): #will get 1 thru 9 clusters\n",
    "    #create the model\n",
    "    kmeans = KMeans(i)\n",
    "    #fit model on x_scaled\n",
    "    kmeans.fit(x_scaled)\n",
    "    #append the results using the inertia method\n",
    "    wcss.append(kmeans.inertia_)"
   ]
  },
  {
   "cell_type": "code",
   "execution_count": 11,
   "id": "dffa002c",
   "metadata": {},
   "outputs": [
    {
     "data": {
      "text/plain": [
       "[59.999999999999986,\n",
       " 29.818973034723147,\n",
       " 18.058485014940032,\n",
       " 10.24718180592842,\n",
       " 7.792695153937187,\n",
       " 6.54983679159933,\n",
       " 5.4602053116458205,\n",
       " 4.315662464700004,\n",
       " 3.8774528668660158]"
      ]
     },
     "execution_count": 11,
     "metadata": {},
     "output_type": "execute_result"
    }
   ],
   "source": [
    "wcss"
   ]
  },
  {
   "cell_type": "code",
   "execution_count": 12,
   "id": "0fc4b142",
   "metadata": {},
   "outputs": [
    {
     "data": {
      "text/plain": [
       "Text(0, 0.5, 'WCSS')"
      ]
     },
     "execution_count": 12,
     "metadata": {},
     "output_type": "execute_result"
    },
    {
     "data": {
      "image/png": "[encoded data removed]",
      "text/plain": [
       "<Figure size 432x288 with 1 Axes>"
      ]
     },
     "metadata": {},
     "output_type": "display_data"
    }
   ],
   "source": [
    "# plot the clusters\n",
    "\n",
    "plt.plot(range(1,10), wcss)\n",
    "\n",
    "#create labels\n",
    "plt.xlabel('Number of Clusters')\n",
    "plt.ylabel('WCSS')"
   ]
  },
  {
   "cell_type": "markdown",
   "id": "3ac6af19",
   "metadata": {},
   "source": [
    "- The inertia drops off in three or four places, 2, 3, 4, and 5."
   ]
  },
  {
   "cell_type": "markdown",
   "id": "03f67bec",
   "metadata": {},
   "source": [
    "### 2 Clusters w/ Scaled Data"
   ]
  },
  {
   "cell_type": "code",
   "execution_count": 13,
   "id": "c0576e85",
   "metadata": {},
   "outputs": [],
   "source": [
    "# create the object\n",
    "kmeans_new = KMeans(2)\n",
    "\n",
    "# fit on scaled data\n",
    "kmeans_new.fit(x_scaled)\n",
    "\n",
    "#create new df called clusters_new containing values from x\n",
    "clusters_new = x.copy()\n",
    "\n",
    "#create new column for predictions\n",
    "clusters_new['cluster_pred'] = kmeans_new.fit_predict(x_scaled)"
   ]
  },
  {
   "cell_type": "code",
   "execution_count": 14,
   "id": "7a31660c",
   "metadata": {},
   "outputs": [
    {
     "data": {
      "text/html": [
       "<div>\n",
       "<style scoped>\n",
       "    .dataframe tbody tr th:only-of-type {\n",
       "        vertical-align: middle;\n",
       "    }\n",
       "\n",
       "    .dataframe tbody tr th {\n",
       "        vertical-align: top;\n",
       "    }\n",
       "\n",
       "    .dataframe thead th {\n",
       "        text-align: right;\n",
       "    }\n",
       "</style>\n",
       "<table border=\"1\" class=\"dataframe\">\n",
       "  <thead>\n",
       "    <tr style=\"text-align: right;\">\n",
       "      <th></th>\n",
       "      <th>Satisfaction</th>\n",
       "      <th>Loyalty</th>\n",
       "      <th>cluster_pred</th>\n",
       "    </tr>\n",
       "  </thead>\n",
       "  <tbody>\n",
       "    <tr>\n",
       "      <th>0</th>\n",
       "      <td>4</td>\n",
       "      <td>-1.33</td>\n",
       "      <td>1</td>\n",
       "    </tr>\n",
       "    <tr>\n",
       "      <th>1</th>\n",
       "      <td>6</td>\n",
       "      <td>-0.28</td>\n",
       "      <td>0</td>\n",
       "    </tr>\n",
       "    <tr>\n",
       "      <th>2</th>\n",
       "      <td>5</td>\n",
       "      <td>-0.99</td>\n",
       "      <td>1</td>\n",
       "    </tr>\n",
       "    <tr>\n",
       "      <th>3</th>\n",
       "      <td>7</td>\n",
       "      <td>-0.29</td>\n",
       "      <td>0</td>\n",
       "    </tr>\n",
       "    <tr>\n",
       "      <th>4</th>\n",
       "      <td>4</td>\n",
       "      <td>1.06</td>\n",
       "      <td>0</td>\n",
       "    </tr>\n",
       "  </tbody>\n",
       "</table>\n",
       "</div>"
      ],
      "text/plain": [
       "   Satisfaction  Loyalty  cluster_pred\n",
       "0             4    -1.33             1\n",
       "1             6    -0.28             0\n",
       "2             5    -0.99             1\n",
       "3             7    -0.29             0\n",
       "4             4     1.06             0"
      ]
     },
     "execution_count": 14,
     "metadata": {},
     "output_type": "execute_result"
    }
   ],
   "source": [
    "# df contains original values but predicted clusters based on solution using standardized data\n",
    "clusters_new.head()"
   ]
  },
  {
   "cell_type": "markdown",
   "id": "a02541cc",
   "metadata": {},
   "source": [
    "# Plot 2 Clusters"
   ]
  },
  {
   "cell_type": "code",
   "execution_count": 15,
   "id": "a7a438d9",
   "metadata": {
    "scrolled": true
   },
   "outputs": [
    {
     "data": {
      "text/plain": [
       "Text(0, 0.5, 'Loyalty')"
      ]
     },
     "execution_count": 15,
     "metadata": {},
     "output_type": "execute_result"
    },
    {
     "data": {
      "image/png": "[encoded data removed]",
      "text/plain": [
       "<Figure size 432x288 with 1 Axes>"
      ]
     },
     "metadata": {},
     "output_type": "display_data"
    }
   ],
   "source": [
    "plt.scatter(data = clusters_new,\n",
    "           x = 'Satisfaction',\n",
    "           y = 'Loyalty',\n",
    "           c = 'cluster_pred',\n",
    "           cmap = 'rainbow')\n",
    "\n",
    "#create x and y labels\n",
    "plt.xlabel('Satisfaction')\n",
    "plt.ylabel('Loyalty')"
   ]
  },
  {
   "cell_type": "markdown",
   "id": "a84fadd7",
   "metadata": {},
   "source": [
    "- Two cluster solution does not make a lot of sense.\n",
    "- Alienated: Low loyalty, low satisfaction customers, bottom left.\n",
    "- Everything Else: High loyalty, high satisfaction. High satisfaction, low loyalty. Low satisfaction, high loyalty."
   ]
  },
  {
   "cell_type": "markdown",
   "id": "2cd40afc",
   "metadata": {},
   "source": [
    "# 3 Clusters"
   ]
  },
  {
   "cell_type": "code",
   "execution_count": 16,
   "id": "cc93da7f",
   "metadata": {},
   "outputs": [],
   "source": [
    "#create object\n",
    "kmeans_new = KMeans(3)\n",
    "\n",
    "#fit object to scaled data\n",
    "kmeans_new.fit(x_scaled)\n",
    "\n",
    "#create new df called clusters_new containing values from x\n",
    "clusters_new = x.copy()\n",
    "\n",
    "#create new column for predictions on scaled data\n",
    "clusters_new['cluster_pred'] = kmeans_new.fit_predict(x_scaled)"
   ]
  },
  {
   "cell_type": "code",
   "execution_count": 17,
   "id": "6f2c97b6",
   "metadata": {},
   "outputs": [
    {
     "data": {
      "text/html": [
       "<div>\n",
       "<style scoped>\n",
       "    .dataframe tbody tr th:only-of-type {\n",
       "        vertical-align: middle;\n",
       "    }\n",
       "\n",
       "    .dataframe tbody tr th {\n",
       "        vertical-align: top;\n",
       "    }\n",
       "\n",
       "    .dataframe thead th {\n",
       "        text-align: right;\n",
       "    }\n",
       "</style>\n",
       "<table border=\"1\" class=\"dataframe\">\n",
       "  <thead>\n",
       "    <tr style=\"text-align: right;\">\n",
       "      <th></th>\n",
       "      <th>Satisfaction</th>\n",
       "      <th>Loyalty</th>\n",
       "      <th>cluster_pred</th>\n",
       "    </tr>\n",
       "  </thead>\n",
       "  <tbody>\n",
       "    <tr>\n",
       "      <th>0</th>\n",
       "      <td>4</td>\n",
       "      <td>-1.33</td>\n",
       "      <td>1</td>\n",
       "    </tr>\n",
       "    <tr>\n",
       "      <th>1</th>\n",
       "      <td>6</td>\n",
       "      <td>-0.28</td>\n",
       "      <td>2</td>\n",
       "    </tr>\n",
       "    <tr>\n",
       "      <th>2</th>\n",
       "      <td>5</td>\n",
       "      <td>-0.99</td>\n",
       "      <td>1</td>\n",
       "    </tr>\n",
       "    <tr>\n",
       "      <th>3</th>\n",
       "      <td>7</td>\n",
       "      <td>-0.29</td>\n",
       "      <td>2</td>\n",
       "    </tr>\n",
       "    <tr>\n",
       "      <th>4</th>\n",
       "      <td>4</td>\n",
       "      <td>1.06</td>\n",
       "      <td>0</td>\n",
       "    </tr>\n",
       "  </tbody>\n",
       "</table>\n",
       "</div>"
      ],
      "text/plain": [
       "   Satisfaction  Loyalty  cluster_pred\n",
       "0             4    -1.33             1\n",
       "1             6    -0.28             2\n",
       "2             5    -0.99             1\n",
       "3             7    -0.29             2\n",
       "4             4     1.06             0"
      ]
     },
     "execution_count": 17,
     "metadata": {},
     "output_type": "execute_result"
    }
   ],
   "source": [
    "# df contains original values but predicted clusters based on solution using standardized data\n",
    "clusters_new.head()"
   ]
  },
  {
   "cell_type": "markdown",
   "id": "05b3b5bc",
   "metadata": {},
   "source": [
    "# Plot 3 Clusters"
   ]
  },
  {
   "cell_type": "code",
   "execution_count": 18,
   "id": "c753f8d5",
   "metadata": {},
   "outputs": [
    {
     "data": {
      "text/plain": [
       "Text(0, 0.5, 'Loyalty')"
      ]
     },
     "execution_count": 18,
     "metadata": {},
     "output_type": "execute_result"
    },
    {
     "data": {
      "image/png": "[encoded data removed]",
      "text/plain": [
       "<Figure size 432x288 with 1 Axes>"
      ]
     },
     "metadata": {},
     "output_type": "display_data"
    }
   ],
   "source": [
    "plt.scatter(data = clusters_new,\n",
    "           x = 'Satisfaction',\n",
    "           y = 'Loyalty',\n",
    "           c = 'cluster_pred',\n",
    "           cmap = 'rainbow')\n",
    "\n",
    "plt.xlabel('Satisfaction')\n",
    "plt.ylabel('Loyalty')"
   ]
  },
  {
   "cell_type": "markdown",
   "id": "a275a198",
   "metadata": {},
   "source": [
    "- The Alienated cluster remains the same.\n",
    "- The Everything Else cluster has been broken up into two clusters\n",
    "    - Supporters: Low to slightly above average satisfaction, high loyalty\n",
    "    - All that remains: High satisfaction with satisfaction ranging on the higher and lower ends"
   ]
  },
  {
   "cell_type": "markdown",
   "id": "490c15c9",
   "metadata": {},
   "source": [
    "# 4 Clusters"
   ]
  },
  {
   "cell_type": "code",
   "execution_count": 19,
   "id": "336231dc",
   "metadata": {},
   "outputs": [],
   "source": [
    "#create the object\n",
    "kmeans_new = KMeans(4)\n",
    "\n",
    "#fit object on scaled data\n",
    "kmeans_new.fit(x_scaled)\n",
    "\n",
    "#create new df called clusters_new containing values of x\n",
    "clusters_new = x.copy()\n",
    "\n",
    "#make column for predictions on scaled data\n",
    "clusters_new['cluster_pred'] = kmeans_new.fit_predict(x_scaled)"
   ]
  },
  {
   "cell_type": "code",
   "execution_count": 20,
   "id": "cd2a84e4",
   "metadata": {},
   "outputs": [
    {
     "data": {
      "text/html": [
       "<div>\n",
       "<style scoped>\n",
       "    .dataframe tbody tr th:only-of-type {\n",
       "        vertical-align: middle;\n",
       "    }\n",
       "\n",
       "    .dataframe tbody tr th {\n",
       "        vertical-align: top;\n",
       "    }\n",
       "\n",
       "    .dataframe thead th {\n",
       "        text-align: right;\n",
       "    }\n",
       "</style>\n",
       "<table border=\"1\" class=\"dataframe\">\n",
       "  <thead>\n",
       "    <tr style=\"text-align: right;\">\n",
       "      <th></th>\n",
       "      <th>Satisfaction</th>\n",
       "      <th>Loyalty</th>\n",
       "      <th>cluster_pred</th>\n",
       "    </tr>\n",
       "  </thead>\n",
       "  <tbody>\n",
       "    <tr>\n",
       "      <th>0</th>\n",
       "      <td>4</td>\n",
       "      <td>-1.33</td>\n",
       "      <td>2</td>\n",
       "    </tr>\n",
       "    <tr>\n",
       "      <th>1</th>\n",
       "      <td>6</td>\n",
       "      <td>-0.28</td>\n",
       "      <td>0</td>\n",
       "    </tr>\n",
       "    <tr>\n",
       "      <th>2</th>\n",
       "      <td>5</td>\n",
       "      <td>-0.99</td>\n",
       "      <td>2</td>\n",
       "    </tr>\n",
       "    <tr>\n",
       "      <th>3</th>\n",
       "      <td>7</td>\n",
       "      <td>-0.29</td>\n",
       "      <td>0</td>\n",
       "    </tr>\n",
       "    <tr>\n",
       "      <th>4</th>\n",
       "      <td>4</td>\n",
       "      <td>1.06</td>\n",
       "      <td>1</td>\n",
       "    </tr>\n",
       "  </tbody>\n",
       "</table>\n",
       "</div>"
      ],
      "text/plain": [
       "   Satisfaction  Loyalty  cluster_pred\n",
       "0             4    -1.33             2\n",
       "1             6    -0.28             0\n",
       "2             5    -0.99             2\n",
       "3             7    -0.29             0\n",
       "4             4     1.06             1"
      ]
     },
     "execution_count": 20,
     "metadata": {},
     "output_type": "execute_result"
    }
   ],
   "source": [
    "# df contains original values but predicted clusters based on solution using standardized data\n",
    "clusters_new.head()"
   ]
  },
  {
   "cell_type": "markdown",
   "id": "10758f92",
   "metadata": {},
   "source": [
    "# Plot 4 Clusters"
   ]
  },
  {
   "cell_type": "code",
   "execution_count": 21,
   "id": "99de1303",
   "metadata": {},
   "outputs": [
    {
     "data": {
      "text/plain": [
       "Text(0, 0.5, 'Loyalty')"
      ]
     },
     "execution_count": 21,
     "metadata": {},
     "output_type": "execute_result"
    },
    {
     "data": {
      "image/png": "[encoded data removed]",
      "text/plain": [
       "<Figure size 432x288 with 1 Axes>"
      ]
     },
     "metadata": {},
     "output_type": "display_data"
    }
   ],
   "source": [
    "plt.scatter(data = clusters_new,\n",
    "           x = 'Satisfaction',\n",
    "           y = 'Loyalty',\n",
    "           c = 'cluster_pred',\n",
    "           cmap = 'rainbow')\n",
    "\n",
    "plt.xlabel('Satisfaction')\n",
    "plt.ylabel('Loyalty')"
   ]
  },
  {
   "cell_type": "markdown",
   "id": "9939752a",
   "metadata": {},
   "source": [
    "- Now there are four distinct clusters that can be well described on the Satisfaction x Loyalty spectrum\n",
    "\n",
    "    - Alienated (Low, Low)\n",
    "    - Fans (High, High)\n",
    "    - Supporters (Low, High)\n",
    "    - Roamers (High, Low)"
   ]
  },
  {
   "cell_type": "markdown",
   "id": "33d346cd",
   "metadata": {},
   "source": [
    "- Supporters have low satisfaction and high loyalty, to prevent them from becoming alienated, will need to increase their satisfaction to turn them into fans\n",
    "\n",
    "- Alienated customers have low satisfaction and low loyalty, if their satisfaction is increased they may become roamers. \n",
    "\n",
    "- Roamers need more loyalty and may respond well to discount vouchers, loyalty cards, and raffles, becoming Supporters.\n",
    "\n",
    "- Addressing Supporters and Roamers first is more likely to produce a favorable outcome than addressing Alienated customers first."
   ]
  },
  {
   "cell_type": "markdown",
   "id": "bf106961",
   "metadata": {},
   "source": [
    "# 5 Clusters"
   ]
  },
  {
   "cell_type": "code",
   "execution_count": 22,
   "id": "655d4492",
   "metadata": {},
   "outputs": [],
   "source": [
    "# create object\n",
    "kmeans_new = KMeans(5)\n",
    "\n",
    "#fit the object on scaled data\n",
    "kmeans_new.fit(x_scaled)\n",
    "\n",
    "#create new df with values of x\n",
    "clusters_new = x.copy()\n",
    "\n",
    "#make new column for predictions on scaled data\n",
    "clusters_new['cluster_pred'] = kmeans_new.fit_predict(x_scaled)"
   ]
  },
  {
   "cell_type": "code",
   "execution_count": 23,
   "id": "a7398c2a",
   "metadata": {},
   "outputs": [
    {
     "data": {
      "text/html": [
       "<div>\n",
       "<style scoped>\n",
       "    .dataframe tbody tr th:only-of-type {\n",
       "        vertical-align: middle;\n",
       "    }\n",
       "\n",
       "    .dataframe tbody tr th {\n",
       "        vertical-align: top;\n",
       "    }\n",
       "\n",
       "    .dataframe thead th {\n",
       "        text-align: right;\n",
       "    }\n",
       "</style>\n",
       "<table border=\"1\" class=\"dataframe\">\n",
       "  <thead>\n",
       "    <tr style=\"text-align: right;\">\n",
       "      <th></th>\n",
       "      <th>Satisfaction</th>\n",
       "      <th>Loyalty</th>\n",
       "      <th>cluster_pred</th>\n",
       "    </tr>\n",
       "  </thead>\n",
       "  <tbody>\n",
       "    <tr>\n",
       "      <th>0</th>\n",
       "      <td>4</td>\n",
       "      <td>-1.33</td>\n",
       "      <td>1</td>\n",
       "    </tr>\n",
       "    <tr>\n",
       "      <th>1</th>\n",
       "      <td>6</td>\n",
       "      <td>-0.28</td>\n",
       "      <td>4</td>\n",
       "    </tr>\n",
       "    <tr>\n",
       "      <th>2</th>\n",
       "      <td>5</td>\n",
       "      <td>-0.99</td>\n",
       "      <td>1</td>\n",
       "    </tr>\n",
       "    <tr>\n",
       "      <th>3</th>\n",
       "      <td>7</td>\n",
       "      <td>-0.29</td>\n",
       "      <td>4</td>\n",
       "    </tr>\n",
       "    <tr>\n",
       "      <th>4</th>\n",
       "      <td>4</td>\n",
       "      <td>1.06</td>\n",
       "      <td>2</td>\n",
       "    </tr>\n",
       "  </tbody>\n",
       "</table>\n",
       "</div>"
      ],
      "text/plain": [
       "   Satisfaction  Loyalty  cluster_pred\n",
       "0             4    -1.33             1\n",
       "1             6    -0.28             4\n",
       "2             5    -0.99             1\n",
       "3             7    -0.29             4\n",
       "4             4     1.06             2"
      ]
     },
     "execution_count": 23,
     "metadata": {},
     "output_type": "execute_result"
    }
   ],
   "source": [
    "# df contains original values but predicted clusters based on solution using standardized data\n",
    "clusters_new.head()"
   ]
  },
  {
   "cell_type": "markdown",
   "id": "be99d9c6",
   "metadata": {},
   "source": [
    "# Plot 5 Clusters"
   ]
  },
  {
   "cell_type": "code",
   "execution_count": 24,
   "id": "79e2ad0e",
   "metadata": {},
   "outputs": [
    {
     "data": {
      "text/plain": [
       "Text(0, 0.5, 'Loyalty')"
      ]
     },
     "execution_count": 24,
     "metadata": {},
     "output_type": "execute_result"
    },
    {
     "data": {
      "image/png": "[encoded data removed]",
      "text/plain": [
       "<Figure size 432x288 with 1 Axes>"
      ]
     },
     "metadata": {},
     "output_type": "display_data"
    }
   ],
   "source": [
    "plt.scatter(data = clusters_new,\n",
    "           x = 'Satisfaction',\n",
    "           y = 'Loyalty',\n",
    "           c = 'cluster_pred',\n",
    "           cmap = 'rainbow')\n",
    "\n",
    "plt.xlabel('Satisfaction')\n",
    "plt.ylabel('Loyalty')"
   ]
  },
  {
   "cell_type": "markdown",
   "id": "3fc87ca6",
   "metadata": {},
   "source": [
    "- Alienated, Supporters, and Fans remain the same.\n",
    "- Roamers were split into two sub-clusters, those extremely satisfied, and those just satisfied. \n",
    "- Since there are four core clusters, and the sub-clusters of Roamers does not offer much new information, four clusters is probably ideal."
   ]
  },
  {
   "cell_type": "markdown",
   "id": "168b281a",
   "metadata": {},
   "source": [
    "# 9 Clusters"
   ]
  },
  {
   "cell_type": "code",
   "execution_count": 25,
   "id": "8a7c5b31",
   "metadata": {},
   "outputs": [],
   "source": [
    "#make the object\n",
    "kmeans_new = KMeans(9)\n",
    "\n",
    "#fit the object onto scaled data\n",
    "kmeans_new.fit(x_scaled)\n",
    "\n",
    "#create new df w/ values of x\n",
    "clusters_new = x.copy()\n",
    "\n",
    "#make new column for predictions of scaled data\n",
    "clusters_new['cluster_pred'] = kmeans_new.fit_predict(x_scaled)"
   ]
  },
  {
   "cell_type": "code",
   "execution_count": 26,
   "id": "31bac5ef",
   "metadata": {},
   "outputs": [
    {
     "data": {
      "text/html": [
       "<div>\n",
       "<style scoped>\n",
       "    .dataframe tbody tr th:only-of-type {\n",
       "        vertical-align: middle;\n",
       "    }\n",
       "\n",
       "    .dataframe tbody tr th {\n",
       "        vertical-align: top;\n",
       "    }\n",
       "\n",
       "    .dataframe thead th {\n",
       "        text-align: right;\n",
       "    }\n",
       "</style>\n",
       "<table border=\"1\" class=\"dataframe\">\n",
       "  <thead>\n",
       "    <tr style=\"text-align: right;\">\n",
       "      <th></th>\n",
       "      <th>Satisfaction</th>\n",
       "      <th>Loyalty</th>\n",
       "      <th>cluster_pred</th>\n",
       "    </tr>\n",
       "  </thead>\n",
       "  <tbody>\n",
       "    <tr>\n",
       "      <th>0</th>\n",
       "      <td>4</td>\n",
       "      <td>-1.33</td>\n",
       "      <td>1</td>\n",
       "    </tr>\n",
       "    <tr>\n",
       "      <th>1</th>\n",
       "      <td>6</td>\n",
       "      <td>-0.28</td>\n",
       "      <td>4</td>\n",
       "    </tr>\n",
       "    <tr>\n",
       "      <th>2</th>\n",
       "      <td>5</td>\n",
       "      <td>-0.99</td>\n",
       "      <td>1</td>\n",
       "    </tr>\n",
       "    <tr>\n",
       "      <th>3</th>\n",
       "      <td>7</td>\n",
       "      <td>-0.29</td>\n",
       "      <td>4</td>\n",
       "    </tr>\n",
       "    <tr>\n",
       "      <th>4</th>\n",
       "      <td>4</td>\n",
       "      <td>1.06</td>\n",
       "      <td>2</td>\n",
       "    </tr>\n",
       "  </tbody>\n",
       "</table>\n",
       "</div>"
      ],
      "text/plain": [
       "   Satisfaction  Loyalty  cluster_pred\n",
       "0             4    -1.33             1\n",
       "1             6    -0.28             4\n",
       "2             5    -0.99             1\n",
       "3             7    -0.29             4\n",
       "4             4     1.06             2"
      ]
     },
     "execution_count": 26,
     "metadata": {},
     "output_type": "execute_result"
    }
   ],
   "source": [
    "# df contains original values but predicted clusters based on solution using standardized data\n",
    "clusters_new.head()"
   ]
  },
  {
   "cell_type": "markdown",
   "id": "feed9075",
   "metadata": {},
   "source": [
    "# Plot 9 Clusters"
   ]
  },
  {
   "cell_type": "code",
   "execution_count": 27,
   "id": "97a54c01",
   "metadata": {},
   "outputs": [
    {
     "data": {
      "text/plain": [
       "Text(0, 0.5, 'Loyalty')"
      ]
     },
     "execution_count": 27,
     "metadata": {},
     "output_type": "execute_result"
    },
    {
     "data": {
      "image/png": "[encoded data removed]",
      "text/plain": [
       "<Figure size 432x288 with 1 Axes>"
      ]
     },
     "metadata": {},
     "output_type": "display_data"
    }
   ],
   "source": [
    "plt.scatter(data = clusters_new,\n",
    "           x = 'Satisfaction',\n",
    "           y = 'Loyalty',\n",
    "           c = 'cluster_pred',\n",
    "           cmap = 'rainbow')\n",
    "\n",
    "plt.xlabel('Satisfaction')\n",
    "plt.ylabel('Loyalty')"
   ]
  },
  {
   "cell_type": "markdown",
   "id": "d2449fd1",
   "metadata": {},
   "source": [
    "- Not much additional information can be gleaned, the four and five cluster solutions were the best. "
   ]
  },
  {
   "cell_type": "markdown",
   "id": "838dd8ad",
   "metadata": {},
   "source": [
    "---"
   ]
  },
  {
   "cell_type": "markdown",
   "id": "0eec7017",
   "metadata": {},
   "source": [
    "Types of Analysis:\n",
    "\n",
    "- Exploratory\n",
    "    - Get acquainted with the data\n",
    "    - Search for patterns\n",
    "    - Plan\n",
    "        - Data Visualization\n",
    "        - Descriptive Statistics\n",
    "        - Clustering\n",
    "- Confirmatory or Explanatory\n",
    "    - Explain a phenomenon\n",
    "    - Confirm a hypothesis\n",
    "    - Validate previous research"
   ]
  },
  {
   "cell_type": "code",
   "execution_count": null,
   "id": "d70c8afe",
   "metadata": {},
   "outputs": [],
   "source": []
  }
 ],
 "metadata": {
  "kernelspec": {
   "display_name": "Python 3 (ipykernel)",
   "language": "python",
   "name": "python3"
  },
  "language_info": {
   "codemirror_mode": {
    "name": "ipython",
    "version": 3
   },
   "file_extension": ".py",
   "mimetype": "text/x-python",
   "name": "python",
   "nbconvert_exporter": "python",
   "pygments_lexer": "ipython3",
   "version": "3.9.12"
  }
 },
 "nbformat": 4,
 "nbformat_minor": 5
}
